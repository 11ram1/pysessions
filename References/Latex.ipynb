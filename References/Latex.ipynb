{
 "cells": [
  {
   "cell_type": "markdown",
   "metadata": {},
   "source": [
    "# Latex\n",
    "---\n",
    "\n",
    "In simple words, Latex is formatting language for documents just like Markdown but used for mathematical notations.\n",
    "\n",
    "for e.g\n",
    "\n",
    "$$f(x) = \n",
    "\\begin{cases} \n",
    "    {x^2}  & \\text{if } x = 0\\\\\n",
    "    \\frac{x}{2} & \\text{if } x \\neq 0\n",
    "\\end{cases}$$"
   ]
  },
  {
   "cell_type": "markdown",
   "metadata": {},
   "source": [
    "## Using Latex with markdown\n",
    "\n",
    "\n",
    "**Inline**\n",
    "\n",
    "Any latex code starting with single `$` and ending with single `$`, e.g $a + b$\n",
    "\n",
    "**Block**\n",
    "\n",
    "Any latex code starting with double `$$` and ending with double `$$` e.g $$a + b$$"
   ]
  },
  {
   "cell_type": "markdown",
   "metadata": {},
   "source": [
    "## Operators\n",
    "---"
   ]
  },
  {
   "cell_type": "markdown",
   "metadata": {},
   "source": [
    "### Add ( + )\n",
    "\n",
    "```latex\n",
    "$a + b$\n",
    "```\n",
    "\n",
    "$a + b$\n",
    "\n",
    "### Substract ( - )\n",
    "\n",
    "```latex\n",
    "$a - b$\n",
    "```\n",
    "\n",
    "$a - b$\n",
    "\n",
    "### Multiply ( * or $\\times$ )\n",
    "\n",
    "```latex\n",
    "$a * b$\n",
    "$a \\times b$\n",
    "```\n",
    "\n",
    "$a * b$\n",
    "\n",
    "$a \\times b$\n",
    "\n",
    "### Divide ( $\\div$ )\n",
    "\n",
    "```latex\n",
    "$a \\div b$\n",
    "```\n",
    "\n",
    "$a \\div b$\n",
    "\n",
    "### Power ( ^ )\n",
    "\n",
    "```latex\n",
    "$a^b$\n",
    "```\n",
    "\n",
    "$a^b$\n",
    "\n",
    "### Subscript ( _ )\n",
    "\n",
    "```latex\n",
    "$a_b$\n",
    "```\n",
    "\n",
    "$a_b$\n",
    "\n",
    "*Note: Above example is $a_b$ not $ab$*"
   ]
  },
  {
   "cell_type": "markdown",
   "metadata": {},
   "source": [
    "### Lessthan ( < ) and Lessthan equals to ($\\leq$) \n",
    "\n",
    "```latex\n",
    "$a < b$\n",
    "$c \\leq 0$\n",
    "```\n",
    "\n",
    "$a < b$\n",
    "\n",
    "$c \\leq 0$\n",
    "\n",
    "### Greaterthan ( > ) and Greaterthan equals to ($\\geq$) \n",
    "\n",
    "```latex\n",
    "$a > b$\n",
    "$c \\geq 0$\n",
    "```\n",
    "\n",
    "$a > b$\n",
    "\n",
    "$c \\geq 0$\n",
    "\n",
    "### Equals ( == ) and Not equals ($\\neq$)\n",
    "\n",
    "```latex\n",
    "$a == b$\n",
    "$c \\neq 0$\n",
    "```\n",
    "\n",
    "$a == b$\n",
    "\n",
    "$c \\neq 0$\n",
    "\n",
    "### Similar ($\\sim$) and Similar equals ($\\simeq$)\n",
    "\n",
    "```latex\n",
    "$a \\sim b$\n",
    "$c \\simeq d$\n",
    "```\n",
    "\n",
    "$a \\sim b$\n",
    "\n",
    "$c \\simeq d$"
   ]
  },
  {
   "cell_type": "markdown",
   "metadata": {},
   "source": [
    "## Operators ( sets )\n",
    "\n",
    "### Membership ($\\in$)\n",
    "\n",
    "```latex\n",
    "a \\in A\n",
    "b \\notin A\n",
    "```\n",
    "\n",
    "$a \\in A$\n",
    "\n",
    "$b \\notin B$"
   ]
  },
  {
   "cell_type": "code",
   "execution_count": null,
   "metadata": {
    "collapsed": true
   },
   "outputs": [],
   "source": []
  },
  {
   "cell_type": "code",
   "execution_count": null,
   "metadata": {
    "collapsed": true
   },
   "outputs": [],
   "source": []
  }
 ],
 "metadata": {
  "kernelspec": {
   "display_name": "Python 3",
   "language": "python",
   "name": "python3"
  },
  "language_info": {
   "codemirror_mode": {
    "name": "ipython",
    "version": 3
   },
   "file_extension": ".py",
   "mimetype": "text/x-python",
   "name": "python",
   "nbconvert_exporter": "python",
   "pygments_lexer": "ipython3",
   "version": "3.5.2"
  }
 },
 "nbformat": 4,
 "nbformat_minor": 0
}
