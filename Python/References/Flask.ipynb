{
 "cells": [
  {
   "cell_type": "markdown",
   "metadata": {},
   "source": [
    "# Flask\n",
    "---"
   ]
  },
  {
   "cell_type": "markdown",
   "metadata": {},
   "source": [
    "Flask is a web framework for python, also termed as \"microframework\" because it doesnot provide any extra modules other than required for handling http request/response."
   ]
  },
  {
   "cell_type": "markdown",
   "metadata": {},
   "source": [
    "## Starting new project"
   ]
  },
  {
   "cell_type": "markdown",
   "metadata": {},
   "source": [
    "- Idea/Analysis/Design\n",
    "- Name of project\n",
    "- Create a project workspace\n",
    "- Start working on project"
   ]
  },
  {
   "cell_type": "markdown",
   "metadata": {},
   "source": [
    "### Idea/Analysis/Design\n",
    "\n",
    "*Shows visualisation of weather of Nepal in web application*"
   ]
  },
  {
   "cell_type": "markdown",
   "metadata": {},
   "source": [
    "### Name\n",
    "\n",
    "**jalbayu**"
   ]
  },
  {
   "cell_type": "markdown",
   "metadata": {},
   "source": [
    "### Create a project workspace"
   ]
  },
  {
   "cell_type": "markdown",
   "metadata": {
    "collapsed": true
   },
   "source": [
    "*first create a project directory inside samples directory*\n",
    "\n",
    "    mkdir -p ../Samples/jalbayu"
   ]
  },
  {
   "cell_type": "markdown",
   "metadata": {
    "collapsed": true
   },
   "source": [
    "*we have blank directory*\n",
    "\n",
    "    ls ../Samples/jalbayu/"
   ]
  },
  {
   "cell_type": "markdown",
   "metadata": {
    "collapsed": false
   },
   "source": [
    "*create a new file inside jalbayu named __environment.yml__ with following content*\n",
    "\n",
    "\n",
    "```yaml\n",
    "name: jalbayu\n",
    "dependencies:\n",
    "    - python\n",
    "    - flask\n",
    "```"
   ]
  },
  {
   "cell_type": "markdown",
   "metadata": {},
   "source": [
    "**Create new environment for project**\n",
    "\n",
    "```sh\n",
    "# change into project directory\n",
    "$ cd jalbayu\n",
    "\n",
    "# create a new environment using environment.yml file\n",
    "$ conda env create\n",
    "\n",
    "# activate environment\n",
    "$ source activate jalbayu\n",
    "\n",
    "# list all installed packages\n",
    "$ conda list\n",
    "```"
   ]
  },
  {
   "cell_type": "markdown",
   "metadata": {},
   "source": [
    "**Start using git from start**\n",
    "\n",
    "```sh\n",
    "# initialize git repository\n",
    "$ git init\n",
    "\n",
    "# check status\n",
    "$ git status\n",
    "\n",
    "# add environment.yml file to repository\n",
    "$ git add environment.yml\n",
    "\n",
    "# commit the changes\n",
    "$ git commit -m \"initial commit\"\n",
    "\n",
    "# make sure, what we want are committed properly\n",
    "$ git status\n",
    "$ git log\n",
    "```"
   ]
  },
  {
   "cell_type": "markdown",
   "metadata": {},
   "source": [
    "**Create a new spyder project**\n",
    "\n",
    "![](../../images/jalbayu/spyder_project.png)"
   ]
  },
  {
   "cell_type": "markdown",
   "metadata": {},
   "source": [
    "**gitignore**\n",
    "\n",
    "```sh\n",
    "\n",
    "# vim is commandline editor for linux\n",
    "# you can use notepad/notepadd++ or spyder\n",
    "# If using vim then\n",
    "#      press \"i\" to start editing and press \"colon\" ie \":\" and then \"wq\" and enter to save and exit\n",
    "$ vim .gitignore\n",
    "```"
   ]
  },
  {
   "cell_type": "markdown",
   "metadata": {
    "collapsed": false
   },
   "source": [
    "*content of __.gitignore__*\n",
    "\n",
    "```gitignore\n",
    ".spyderproject\n",
    "```\n"
   ]
  },
  {
   "cell_type": "markdown",
   "metadata": {},
   "source": [
    "*Now*\n",
    "```sh\n",
    "\n",
    "# add .gitignore file\n",
    "$ git add .gitignore\n",
    "\n",
    "# commit the changes\n",
    "$ git commit -m \"added gitignore file\"\n",
    "```"
   ]
  },
  {
   "cell_type": "markdown",
   "metadata": {},
   "source": [
    "**Create a simple hello world app**"
   ]
  },
  {
   "cell_type": "markdown",
   "metadata": {
    "collapsed": false
   },
   "source": [
    "*create a file named __app.py__ with following contents*\n",
    "\n",
    "```python\n",
    "# -*- coding: utf-8 -*-\n",
    "\n",
    "# import Flask from module \"flask\"\n",
    "from flask import Flask\n",
    "\n",
    "\n",
    "# create a new web application object\n",
    "application = Flask(__name__)\n",
    "\n",
    "\n",
    "# add a new route \n",
    "# http://localhost:5000/\n",
    "@application.route('/')\n",
    "def index():\n",
    "    # we are returning a html string\n",
    "    return \"<h1>Hello World</h1>\"\n",
    "\n",
    "\n",
    "if __name__ == '__main__':\n",
    "    # run the application\n",
    "    application.run()\n",
    "```"
   ]
  },
  {
   "cell_type": "markdown",
   "metadata": {},
   "source": [
    "**Run the application**\n",
    "\n",
    "```sh\n",
    "\n",
    "$ python app.py\n",
    "* Running on http://127.0.0.1:5000/ (Press CTRL+C to quit)\n",
    "\n",
    "```\n",
    "\n",
    "*Open browser with http://localhost:5000*"
   ]
  },
  {
   "cell_type": "markdown",
   "metadata": {},
   "source": [
    "**Mindmap about what are crude parts of our project**\n",
    "\n",
    "![](../../images/jalbayu/jalbayu_mindmap.png)"
   ]
  },
  {
   "cell_type": "code",
   "execution_count": null,
   "metadata": {
    "collapsed": true
   },
   "outputs": [],
   "source": []
  },
  {
   "cell_type": "markdown",
   "metadata": {
    "collapsed": true
   },
   "source": [
    "**Templates**\n",
    "\n",
    "*using templates for html page instead of just passing them as html string*\n",
    "\n",
    "__app.py__\n",
    "\n",
    "```python\n",
    "# -*- coding: utf-8 -*-\n",
    "\n",
    "# import Flask from module \"flask\"\n",
    "from flask import Flask, render_template\n",
    "\n",
    "\n",
    "# create a new web application object\n",
    "application = Flask(__name__)\n",
    "\n",
    "\n",
    "# add a new route \n",
    "# http://localhost:5000/\n",
    "@application.route('/')\n",
    "def index():\n",
    "    # render templates searches given template file inside templates/ directory\n",
    "    # and renders that template as html\n",
    "    return render_template('hello.html')\n",
    "\n",
    "\n",
    "if __name__ == '__main__':\n",
    "    application.run()\n",
    "```"
   ]
  },
  {
   "cell_type": "markdown",
   "metadata": {},
   "source": [
    "**Create a templates directory**\n",
    "\n",
    "    $ mkdir -p templates\n",
    "\n",
    "*Create a file named __hello.html__ inside __templates__ with contents as*\n",
    "```html\n",
    "<html>\n",
    "    <head>\n",
    "        <title>Hello World</title>\n",
    "    </head>\n",
    "    \n",
    "    <body>\n",
    "        <h1>Hello World</h1>\n",
    "    </body>\n",
    "</html>\n",
    "```"
   ]
  },
  {
   "cell_type": "markdown",
   "metadata": {},
   "source": [
    "**Restarting the server**\n",
    "\n",
    "*Hit Ctrl+C on terminal/prompt where our application is running, and rerun the server as*\n",
    "\n",
    "```sh\n",
    "$ python app.py\n",
    "* Running on http://127.0.0.1:5000/ (Press CTRL+C to quit)\n",
    "```"
   ]
  },
  {
   "cell_type": "markdown",
   "metadata": {},
   "source": [
    "**Reloading the server without restarting it manually**\n",
    "\n",
    "*Enable debug mode, __app.py__*\n",
    "\n",
    "```python\n",
    "...\n",
    "if __name__ == '__main__':\n",
    "    # enable debug mode\n",
    "    # with this enabled we can view errors on browser\n",
    "    #  and server will automatically reload on every changes on python code\n",
    "    application.run(debug=True)\n",
    "```"
   ]
  },
  {
   "cell_type": "markdown",
   "metadata": {},
   "source": [
    "*Restart the server again, this time it will be on debug mode*"
   ]
  },
  {
   "cell_type": "code",
   "execution_count": null,
   "metadata": {
    "collapsed": true
   },
   "outputs": [],
   "source": []
  },
  {
   "cell_type": "markdown",
   "metadata": {
    "collapsed": true
   },
   "source": [
    "**Template Inheritence**\n",
    "\n",
    "We will create a single template for every repeated block of html code, for eg. headers, footers etc.\n",
    "\n",
    "__base.html__\n",
    "```html\n",
    "<!DOCTYPE html>\n",
    "<html lang=\"en\">\n",
    "  <head>\n",
    "    <meta charset=\"utf-8\">\n",
    "    <meta http-equiv=\"X-UA-Compatible\" content=\"IE=edge\">\n",
    "    <meta name=\"viewport\" content=\"width=device-width, initial-scale=1\">\n",
    "    <!-- The above 3 meta tags *must* come first in the head; any other head content must come *after* these tags -->\n",
    "    <title>JalBayu - {% block title %}{% endblock %}</title>\n",
    "\n",
    "    <!-- Bootstrap -->\n",
    "    <link rel=\"stylesheet\" href=\"https://maxcdn.bootstrapcdn.com/bootstrap/3.3.6/css/bootstrap.min.css\" integrity=\"sha384-1q8mTJOASx8j1Au+a5WDVnPi2lkFfwwEAa8hDDdjZlpLegxhjVME1fgjWPGmkzs7\" crossorigin=\"anonymous\">\n",
    "\n",
    "    <!-- HTML5 shim and Respond.js for IE8 support of HTML5 elements and media queries -->\n",
    "    <!-- WARNING: Respond.js doesn't work if you view the page via file:// -->\n",
    "    <!--[if lt IE 9]>\n",
    "      <script src=\"https://oss.maxcdn.com/html5shiv/3.7.2/html5shiv.min.js\"></script>\n",
    "      <script src=\"https://oss.maxcdn.com/respond/1.4.2/respond.min.js\"></script>\n",
    "    <![endif]-->\n",
    "  </head>\n",
    "  <body>\n",
    "    <div class=\"container\">\n",
    "        {% block main %}{% endblock %}\n",
    "    </div>\n",
    "\n",
    "    <!-- jQuery (necessary for Bootstrap's JavaScript plugins) -->\n",
    "    <!-- <script src=\"https://ajax.googleapis.com/ajax/libs/jquery/1.11.3/jquery.min.js\"></script> -->\n",
    "    <!-- Include all compiled plugins (below), or include individual files as needed -->\n",
    "  </body>\n",
    "</html>\n",
    "```\n",
    "\n",
    "*- Note that we have also used [bootstrap](http://getbootstrap.com), a css framework. Infact this whole base template is copied from bootstrap template example snippet.*"
   ]
  },
  {
   "cell_type": "markdown",
   "metadata": {},
   "source": [
    "*Lets update our __hello.html__ to use this base template, with contents as*\n",
    "\n",
    "```html\n",
    "{% extends 'base.html' %}\n",
    "\n",
    "{% block title %}Hello World{% endblock %}\n",
    "\n",
    "{% block main %}<h1>Hello World</h1>{% endblock %}\n",
    "```\n",
    "\n",
    "In Above\n",
    "- __extends__ means we are using __base.html__ template as our parent template\n",
    "- whatever we write inside __{% block title %}__ and __{% endblock %}__ in __hello.py__ template will be overwritten inside blocks of same name of parent ( in this case __base.html__ file).\n",
    "\n",
    "- i.e\n",
    "    - When we load __hello.html__ file from view, it will first load __base.html__, apply every block from __hello.html__ in this case, __{% block title %}__ and __{% block main %}__ and return whole result"
   ]
  },
  {
   "cell_type": "code",
   "execution_count": null,
   "metadata": {
    "collapsed": true
   },
   "outputs": [],
   "source": []
  },
  {
   "cell_type": "markdown",
   "metadata": {},
   "source": [
    "**Let's create a login page**"
   ]
  },
  {
   "cell_type": "markdown",
   "metadata": {},
   "source": [
    "__templates/login.html__\n",
    "```html\n",
    "{% extends \"base.html\" %}\n",
    "\n",
    "{% block title %}Login Page{% endblock %}\n",
    "    \n",
    "\n",
    "{% block main %}\n",
    "<div class=\"row\">\n",
    "    <div class=\"col-md-3\"></div>\n",
    "    <div class=\"col-md-6\">\n",
    "    <!-- form starts here -->\n",
    "        <h1>Login</h1>\n",
    "        <hr/>\n",
    "        <form method=\"post\" action=\"\">\n",
    "            <div class=\"form-group\">\n",
    "                <label for=\"email\">Email</label>\n",
    "                <input type=\"email\" class=\"form-control\" id=\"email\" placeholder=\"Email\" name=\"email\">\n",
    "            </div>\n",
    "            <div class=\"form-group\">\n",
    "                <label for=\"password\">Password</label>\n",
    "                <input type=\"password\" class=\"form-control\" id=\"password\" placeholder=\"Password\" name=\"password\">\n",
    "            </div>\n",
    "          \n",
    "            <button type=\"submit\" class=\"btn btn-default\">Login</button>\n",
    "        </form>\n",
    "    \n",
    "    <!-- form ends here -->\n",
    "    </div>\n",
    "</div>\n",
    "{% endblock %}\n",
    "```"
   ]
  },
  {
   "cell_type": "markdown",
   "metadata": {},
   "source": [
    "__app.py__\n",
    "\n",
    "```python\n",
    "...\n",
    "\n",
    "# methods=['GET', 'POST'] means we are accepting both Request types\n",
    "@application.route('/login', methods=['GET', 'POST'])\n",
    "def login():\n",
    "    if request.method == 'POST':\n",
    "        # if we get POST data, ie someone submitted the login form\n",
    "        # just print what we obtained from browser\n",
    "        print(\"Posted data\", request.form)\n",
    "    # after everything is done show login form, or show form if this is GET request\n",
    "    return render_template('login.html')\n",
    "...\n",
    "```"
   ]
  },
  {
   "cell_type": "markdown",
   "metadata": {},
   "source": [
    "*Restart the app, and visit http://localhost:5000/login in your browser*\n",
    "\n",
    "![login page](../../images/jalbayu/screenshot_login.png)"
   ]
  },
  {
   "cell_type": "code",
   "execution_count": null,
   "metadata": {
    "collapsed": true
   },
   "outputs": [],
   "source": []
  },
  {
   "cell_type": "code",
   "execution_count": null,
   "metadata": {
    "collapsed": true
   },
   "outputs": [],
   "source": []
  }
 ],
 "metadata": {
  "kernelspec": {
   "display_name": "Python 3",
   "language": "python",
   "name": "python3"
  },
  "language_info": {
   "codemirror_mode": {
    "name": "ipython",
    "version": 3
   },
   "file_extension": ".py",
   "mimetype": "text/x-python",
   "name": "python",
   "nbconvert_exporter": "python",
   "pygments_lexer": "ipython3",
   "version": "3.5.2"
  }
 },
 "nbformat": 4,
 "nbformat_minor": 0
}
