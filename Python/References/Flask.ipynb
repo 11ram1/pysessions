{
 "cells": [
  {
   "cell_type": "markdown",
   "metadata": {},
   "source": [
    "# Flask\n",
    "---"
   ]
  },
  {
   "cell_type": "markdown",
   "metadata": {},
   "source": [
    "Flask is a web framework for python, also termed as \"microframework\" because it doesnot provide any extra modules other than required for handling http request/response."
   ]
  },
  {
   "cell_type": "markdown",
   "metadata": {},
   "source": [
    "## Starting new project"
   ]
  },
  {
   "cell_type": "markdown",
   "metadata": {},
   "source": [
    "- Idea/Analysis/Design\n",
    "- Name of project\n",
    "- Create a project workspace\n",
    "- Start working on project"
   ]
  },
  {
   "cell_type": "markdown",
   "metadata": {},
   "source": [
    "### Idea/Analysis/Design\n",
    "\n",
    "*Shows visualisation of weather of Nepal in web application*"
   ]
  },
  {
   "cell_type": "markdown",
   "metadata": {},
   "source": [
    "### Name\n",
    "\n",
    "**jalbayu**"
   ]
  },
  {
   "cell_type": "markdown",
   "metadata": {},
   "source": [
    "### Create a project workspace"
   ]
  },
  {
   "cell_type": "markdown",
   "metadata": {
    "collapsed": true
   },
   "source": [
    "*first create a project directory inside samples directory*\n",
    "\n",
    "    mkdir -p ../Samples/jalbayu"
   ]
  },
  {
   "cell_type": "markdown",
   "metadata": {
    "collapsed": true
   },
   "source": [
    "*we have blank directory*\n",
    "\n",
    "    ls ../Samples/jalbayu/"
   ]
  },
  {
   "cell_type": "markdown",
   "metadata": {
    "collapsed": false
   },
   "source": [
    "*create a new file inside jalbayu named __environment.yml__ with following content*\n",
    "\n",
    "\n",
    "```yaml\n",
    "name: jalbayu\n",
    "dependencies:\n",
    "    - python\n",
    "    - flask\n",
    "```"
   ]
  },
  {
   "cell_type": "markdown",
   "metadata": {},
   "source": [
    "**Create new environment for project**\n",
    "\n",
    "```sh\n",
    "# change into project directory\n",
    "$ cd jalbayu\n",
    "\n",
    "# create a new environment using environment.yml file\n",
    "$ conda env create\n",
    "\n",
    "# activate environment\n",
    "$ source activate jalbayu\n",
    "\n",
    "# list all installed packages\n",
    "$ conda list\n",
    "```"
   ]
  },
  {
   "cell_type": "markdown",
   "metadata": {},
   "source": [
    "**Start using git from start**\n",
    "\n",
    "```sh\n",
    "# initialize git repository\n",
    "$ git init\n",
    "\n",
    "# check status\n",
    "$ git status\n",
    "\n",
    "# add environment.yml file to repository\n",
    "$ git add environment.yml\n",
    "\n",
    "# commit the changes\n",
    "$ git commit -m \"initial commit\"\n",
    "\n",
    "# make sure, what we want are committed properly\n",
    "$ git status\n",
    "$ git log\n",
    "```"
   ]
  },
  {
   "cell_type": "markdown",
   "metadata": {},
   "source": [
    "**Create a new spyder project**\n",
    "\n",
    "![](../../images/Spyder.png)"
   ]
  },
  {
   "cell_type": "markdown",
   "metadata": {},
   "source": [
    "**gitignore**\n",
    "\n",
    "```sh\n",
    "\n",
    "# vim is commandline editor for linux\n",
    "# you can use notepad/notepadd++ or spyder\n",
    "# If using vim then\n",
    "#      press \"i\" to start editing and press \"colon\" ie \":\" and then \"wq\" and enter to save and exit\n",
    "$ vim .gitignore\n",
    "```"
   ]
  },
  {
   "cell_type": "markdown",
   "metadata": {
    "collapsed": false
   },
   "source": [
    "*content of __.gitignore__*\n",
    "\n",
    "```gitignore\n",
    ".spyderproject\n",
    "```\n"
   ]
  },
  {
   "cell_type": "markdown",
   "metadata": {},
   "source": [
    "*Now*\n",
    "```sh\n",
    "\n",
    "# add .gitignore file\n",
    "$ git add .gitignore\n",
    "\n",
    "# commit the changes\n",
    "$ git commit -m \"added gitignore file\"\n",
    "```"
   ]
  },
  {
   "cell_type": "markdown",
   "metadata": {},
   "source": [
    "**Create a simple hello world app**"
   ]
  },
  {
   "cell_type": "markdown",
   "metadata": {
    "collapsed": false
   },
   "source": [
    "*create a file named __app.py__ with following contents*\n",
    "\n",
    "```python\n",
    "# -*- coding: utf-8 -*-\n",
    "\n",
    "# import Flask from module \"flask\"\n",
    "from flask import Flask\n",
    "\n",
    "\n",
    "# create a new web application object\n",
    "application = Flask(__name__)\n",
    "\n",
    "\n",
    "# add a new route \n",
    "# http://localhost:5000/\n",
    "@application.route('/')\n",
    "def index():\n",
    "    return \"<h1>Hello World</h1>\"\n",
    "\n",
    "\n",
    "if __name__ == '__main__':\n",
    "    application.run()\n",
    "```"
   ]
  },
  {
   "cell_type": "markdown",
   "metadata": {},
   "source": [
    "**Run the application**\n",
    "\n",
    "```sh\n",
    "\n",
    "$ python app.py\n",
    "* Running on http://127.0.0.1:5000/ (Press CTRL+C to quit)\n",
    "\n",
    "```\n",
    "\n",
    "*Open browser with http://localhost:5000*"
   ]
  },
  {
   "cell_type": "markdown",
   "metadata": {},
   "source": [
    "**Mindmap about what are crude parts of our project**\n",
    "\n",
    "![](../../images/jalbayu_mindmap.png)"
   ]
  },
  {
   "cell_type": "code",
   "execution_count": null,
   "metadata": {
    "collapsed": true
   },
   "outputs": [],
   "source": []
  },
  {
   "cell_type": "code",
   "execution_count": null,
   "metadata": {
    "collapsed": true
   },
   "outputs": [],
   "source": []
  },
  {
   "cell_type": "code",
   "execution_count": null,
   "metadata": {
    "collapsed": true
   },
   "outputs": [],
   "source": []
  },
  {
   "cell_type": "code",
   "execution_count": null,
   "metadata": {
    "collapsed": true
   },
   "outputs": [],
   "source": []
  },
  {
   "cell_type": "code",
   "execution_count": null,
   "metadata": {
    "collapsed": true
   },
   "outputs": [],
   "source": []
  }
 ],
 "metadata": {
  "kernelspec": {
   "display_name": "Python 3",
   "language": "python",
   "name": "python3"
  },
  "language_info": {
   "codemirror_mode": {
    "name": "ipython",
    "version": 3
   },
   "file_extension": ".py",
   "mimetype": "text/x-python",
   "name": "python",
   "nbconvert_exporter": "python",
   "pygments_lexer": "ipython3",
   "version": "3.5.2"
  }
 },
 "nbformat": 4,
 "nbformat_minor": 0
}
