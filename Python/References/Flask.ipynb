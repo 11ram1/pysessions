{
 "cells": [
  {
   "cell_type": "markdown",
   "metadata": {},
   "source": [
    "# Flask\n",
    "---"
   ]
  },
  {
   "cell_type": "markdown",
   "metadata": {},
   "source": [
    "Flask is a web framework for python, also termed as \"microframework\" because it doesnot provide any extra modules other than required for handling http request/response."
   ]
  },
  {
   "cell_type": "markdown",
   "metadata": {},
   "source": [
    "## Starting new project"
   ]
  },
  {
   "cell_type": "markdown",
   "metadata": {},
   "source": [
    "- Idea/Analysis/Design\n",
    "- Name of project\n",
    "- Create a project workspace\n",
    "- Start working on project"
   ]
  },
  {
   "cell_type": "markdown",
   "metadata": {},
   "source": [
    "### Idea/Analysis/Design\n",
    "\n",
    "*Shows visualisation of weather of Nepal in web application*"
   ]
  },
  {
   "cell_type": "markdown",
   "metadata": {},
   "source": [
    "### Name\n",
    "\n",
    "**jalbayu**"
   ]
  },
  {
   "cell_type": "markdown",
   "metadata": {},
   "source": [
    "### Create a project workspace"
   ]
  },
  {
   "cell_type": "code",
   "execution_count": 1,
   "metadata": {
    "collapsed": true
   },
   "outputs": [],
   "source": [
    "# first create a project directory inside samples directory\n",
    "\n",
    "!mkdir -p ../Samples/jalbayu"
   ]
  },
  {
   "cell_type": "code",
   "execution_count": 2,
   "metadata": {
    "collapsed": true
   },
   "outputs": [],
   "source": [
    "# we have blank directory\n",
    "%ls ../Samples/jalbayu/"
   ]
  },
  {
   "cell_type": "code",
   "execution_count": 3,
   "metadata": {
    "collapsed": false
   },
   "outputs": [
    {
     "name": "stdout",
     "output_type": "stream",
     "text": [
      "name: jalbayu\r\n",
      "dependencies:\r\n",
      "    - python\r\n",
      "    - flask"
     ]
    }
   ],
   "source": [
    "# create a new file inside jalbayu named \"environment.yml\"\n",
    "%cat ../Samples/jalbayu/environment.yml"
   ]
  },
  {
   "cell_type": "markdown",
   "metadata": {},
   "source": [
    "**Create new environment for project**\n",
    "\n",
    "```sh\n",
    "$ cd jalbayu\n",
    "\n",
    "$ conda env create\n",
    "\n",
    "# activate environment\n",
    "$ source activate jalbayu\n",
    "\n",
    "# list all installed packages\n",
    "$ conda list\n",
    "```"
   ]
  },
  {
   "cell_type": "markdown",
   "metadata": {},
   "source": [
    "**Start using git from start**\n",
    "\n",
    "```sh\n",
    "$ git init\n",
    "\n",
    "$ git status\n",
    "\n",
    "$ git add environment.yml\n",
    "\n",
    "$ git commit -m \"initial commit\"\n",
    "\n",
    "$ git status\n",
    "\n",
    "$ git log\n",
    "```"
   ]
  },
  {
   "cell_type": "markdown",
   "metadata": {},
   "source": [
    "**Create a new spyder project**\n",
    "\n",
    "![](../../images/Spyder.png)"
   ]
  },
  {
   "cell_type": "markdown",
   "metadata": {},
   "source": [
    "**gitignore**\n",
    "\n",
    "```sh\n",
    "\n",
    "# vim is commandline editor for linux\n",
    "# you can use notepad/notepadd++ or spyder\n",
    "$ vim .gitignore\n",
    "\n",
    "$ git add .gitignore\n",
    "\n",
    "$ git commit -m \"added gitignore file\"\n",
    "```"
   ]
  },
  {
   "cell_type": "code",
   "execution_count": 4,
   "metadata": {
    "collapsed": false
   },
   "outputs": [
    {
     "name": "stdout",
     "output_type": "stream",
     "text": [
      "\r\n",
      ".spyderproject"
     ]
    }
   ],
   "source": [
    "%cat ../Samples/jalbayu/.gitignore"
   ]
  },
  {
   "cell_type": "markdown",
   "metadata": {},
   "source": [
    "**Create a simple hello world app**"
   ]
  },
  {
   "cell_type": "code",
   "execution_count": 5,
   "metadata": {
    "collapsed": false
   },
   "outputs": [
    {
     "name": "stdout",
     "output_type": "stream",
     "text": [
      "# -*- coding: utf-8 -*-\r\n",
      "\r\n",
      "# import Flask from module \"flask\"\r\n",
      "from flask import Flask\r\n",
      "\r\n",
      "\r\n",
      "# create a new web application object\r\n",
      "application = Flask(__name__)\r\n",
      "\r\n",
      "\r\n",
      "# add a new route \r\n",
      "# http://localhost:5000/\r\n",
      "@application.route('/')\r\n",
      "def index():\r\n",
      "    return \"<h1>Hello World</h1>\"\r\n",
      "\r\n",
      "\r\n",
      "if __name__ == '__main__':\r\n",
      "    application.run()\r\n"
     ]
    }
   ],
   "source": [
    "%cat ../Samples/jalbayu/app.py"
   ]
  },
  {
   "cell_type": "markdown",
   "metadata": {},
   "source": [
    "**Run the application**\n",
    "\n",
    "```sh\n",
    "\n",
    "$ python app.py\n",
    "* Running on http://127.0.0.1:5000/ (Press CTRL+C to quit)\n",
    "\n",
    "```\n",
    "\n",
    "*Open browser with http://localhost:5000*"
   ]
  },
  {
   "cell_type": "markdown",
   "metadata": {},
   "source": [
    "**Mindmap about what are crude parts of our project**\n",
    "\n",
    "![](../../images/jalbayu_mindmap.png)"
   ]
  },
  {
   "cell_type": "code",
   "execution_count": null,
   "metadata": {
    "collapsed": true
   },
   "outputs": [],
   "source": []
  },
  {
   "cell_type": "code",
   "execution_count": null,
   "metadata": {
    "collapsed": true
   },
   "outputs": [],
   "source": []
  },
  {
   "cell_type": "code",
   "execution_count": null,
   "metadata": {
    "collapsed": true
   },
   "outputs": [],
   "source": []
  },
  {
   "cell_type": "code",
   "execution_count": null,
   "metadata": {
    "collapsed": true
   },
   "outputs": [],
   "source": []
  },
  {
   "cell_type": "code",
   "execution_count": null,
   "metadata": {
    "collapsed": true
   },
   "outputs": [],
   "source": []
  }
 ],
 "metadata": {
  "kernelspec": {
   "display_name": "Python 3",
   "language": "python",
   "name": "python3"
  },
  "language_info": {
   "codemirror_mode": {
    "name": "ipython",
    "version": 3
   },
   "file_extension": ".py",
   "mimetype": "text/x-python",
   "name": "python",
   "nbconvert_exporter": "python",
   "pygments_lexer": "ipython3",
   "version": "3.5.2"
  }
 },
 "nbformat": 4,
 "nbformat_minor": 0
}
