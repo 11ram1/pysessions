{
 "cells": [
  {
   "cell_type": "markdown",
   "metadata": {},
   "source": [
    "# Python Session 1\n",
    "---\n",
    "\n",
    "## Downloading Miniconda/Anaconda\n",
    "\n",
    "Anaconda is python distribution which bundles all the required datascience tools.\n",
    "\n",
    "> Download Anaconda from [Anaconda Website](https://www.continuum.io/downloads). Use Python 3 version.\n",
    "\n",
    "Miniconda is smaller version of Anaconda, which contains only required packages to run anaconda.\n",
    "\n",
    "> Download miniconda from [Miniconda website](http://conda.pydata.org/miniconda.html). Use Python 3 version.\n",
    "\n",
    "\n",
    "## Installation\n",
    "---\n",
    "\n",
    "\n",
    "Windows\n",
    "\n",
    "  - Install exe file\n",
    "  - update environment variable with installed miniconda path. [See Instructions](https://www.microsoft.com/resources/documentation/windows/xp/all/proddocs/en-us/sysdm_advancd_environmnt_addchange_variable.mspx)\n",
    "\n",
    "Linux\n",
    "\n",
    "    > chmod +x Miniconda3-latest-Linux-x86_64.sh\n",
    "    > ./Miniconda3-latest-Linux-x86_64.sh\n",
    "    > nano ~/.bashrc\n",
    "\n",
    "Mac\n",
    "\n",
    "    > chmod +x Miniconda3-latest-MacOSX-x86_64.sh\n",
    "    > ./Miniconda3-latest-MacOSX-x86_64.sh\n",
    "    > nano ~/.bash_profile\n",
    "\n",
    "Add line below to .bashrc or .bash_profile or .zshrc file\n",
    "\n",
    "```sh \n",
    "    export PATH=$PATH:~/miniconda3/bin\n",
    "```"
   ]
  },
  {
   "cell_type": "markdown",
   "metadata": {},
   "source": [
    "## Creating new environment and Installing Jupyter\n",
    "---\n",
    "\n",
    "\n",
    "Terminal commands to create environment and install jupyter\n",
    "\n",
    "check if conda is properly installed\n",
    "\n",
    "    conda --version\n",
    "\n",
    "create conda environment ( \"pyclass\" )\n",
    "\n",
    "    conda create -n pyclass python\n",
    "\n",
    "activate created environment ( Linux/MacosX )\n",
    "\n",
    "    source activate pyclass\n",
    "\n",
    "activate created environment ( Windows )\n",
    "\n",
    "    activate pyclass\n",
    "\n",
    "install jupyter\n",
    "\n",
    "    conda install jupyter\n",
    "\n",
    "run jupyter notebook server\n",
    "\n",
    "    jupyter-notebook\n",
    "\n",
    "deactivate environment\n",
    "\n",
    "    deactivate"
   ]
  },
  {
   "cell_type": "markdown",
   "metadata": {},
   "source": [
    "## Running Jupyter\n",
    "---\n",
    "\n",
    "activate created environment ( Linux/MacosX )\n",
    "\n",
    "    source activate pyclass\n",
    "\n",
    "activate created environment ( Windows )\n",
    "\n",
    "    activate pyclass\n",
    "\n",
    "run jupyter notebook server\n",
    "\n",
    "    jupyter-notebook\n",
    "\n",
    "deactivate environement ( Windows )\n",
    "\n",
    "    deactivate\n",
    "\n",
    "deactivate environement ( Mac/Linux )\n",
    "\n",
    "    source deactivate"
   ]
  },
  {
   "cell_type": "markdown",
   "metadata": {},
   "source": [
    "## Using Jupyter\n",
    "---\n",
    "\n",
    "\n",
    "- When you run **jupyter-notebook** it will open browser presented with a page, If not got to [http://localhost:8888](http://localhost:8888) in your browser\n",
    "- Select **Python 3** from drop down menu in right hand corner of page labelled **New**\n",
    "- It will open notebook page with a cell just like below\n",
    "- Type **print(\"Hello\")** and hit **Ctrl+Enter**"
   ]
  },
  {
   "cell_type": "code",
   "execution_count": 1,
   "metadata": {
    "collapsed": false
   },
   "outputs": [
    {
     "name": "stdout",
     "output_type": "stream",
     "text": [
      "Hello\n"
     ]
    }
   ],
   "source": [
    "print(\"Hello\")"
   ]
  },
  {
   "cell_type": "markdown",
   "metadata": {},
   "source": [
    "- Hitting **Ctrl+Enter** will execute your current cell.\n",
    "- Hitting **Alt+Enter** will execute your current cell and insert a new cell below.\n",
    "- You can add new cell from toolbar with **plus** sign."
   ]
  },
  {
   "cell_type": "markdown",
   "metadata": {},
   "source": [
    "## Basic conda commands\n",
    "---\n",
    "\n",
    "list environments\n",
    "\n",
    "    conda env list\n",
    "\n",
    "create environment with essential packages ( for eg installs python, jupyter and numpy )\n",
    "\n",
    "    conda create -n myenv python jupyter numpy\n",
    "\n",
    "list all installed packages\n",
    "\n",
    "    conda list\n",
    "\n",
    "search for a package ( if it exists on repository )\n",
    "\n",
    "    conda search requests\n",
    "\n",
    "install package that is not available in conda repository\n",
    "\n",
    "    conda install pip\n",
    "    pip install pyramid\n",
    "\n",
    "**Note: ** *conda and pip both are python package managers, pip deals with source files directly while conda uses binary compiled version, pip installs from official repository [pypi](pypi.python.org) so any python package can be installed with pip while not with conda*"
   ]
  }
 ],
 "metadata": {
  "kernelspec": {
   "display_name": "Python 3",
   "language": "python",
   "name": "python3"
  },
  "language_info": {
   "codemirror_mode": {
    "name": "ipython",
    "version": 3
   },
   "file_extension": ".py",
   "mimetype": "text/x-python",
   "name": "python",
   "nbconvert_exporter": "python",
   "pygments_lexer": "ipython3",
   "version": "3.5.1"
  }
 },
 "nbformat": 4,
 "nbformat_minor": 0
}
