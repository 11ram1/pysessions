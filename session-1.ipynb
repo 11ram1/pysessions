{
 "cells": [
  {
   "cell_type": "markdown",
   "metadata": {},
   "source": [
    "# Python Session 1\n",
    "\n",
    "## Downloading miniconda\n",
    "\n",
    "Download miniconda from [miniconda website](http://conda.pydata.org/miniconda.html).\n",
    "\n",
    "\n",
    "## Installation\n",
    "\n",
    "\n",
    "Windows\n",
    "  - Install exe file\n",
    "  - update environment variable with installed miniconda path.\n",
    "\n",
    "Linux\n",
    "\n",
    "    > chmod +x Miniconda3-latest-Linux-x86_64.sh\n",
    "    > ./Miniconda3-latest-Linux-x86_64.sh\n",
    "    > nano ~/.bashrc\n",
    "\n",
    "Mac\n",
    "\n",
    "    > chmod +x Miniconda3-latest-MacOSX-x86_64.sh\n",
    "    > ./Miniconda3-latest-MacOSX-x86_64.sh\n",
    "    > nano ~/.bash_profile\n",
    "\n",
    "Add line below to bashrc/bash_profile/zshrc file\n",
    "\n",
    "```sh \n",
    "    export PATH=$PATH:~/miniconda3/bin\n",
    "```"
   ]
  },
  {
   "cell_type": "markdown",
   "metadata": {},
   "source": [
    "## Running Jupyter\n",
    "\n",
    "Terminal commands to create environment and install jupyter\n",
    "\n",
    "check if conda is properly installed\n",
    "\n",
    "    conda --version\n",
    "\n",
    "create conda environment ( \"pyclass\" )\n",
    "\n",
    "    conda create -n pyclass python\n",
    "\n",
    "activate created environment ( Linux/MacosX )\n",
    "\n",
    "    source activate pyclass\n",
    "\n",
    "activate created environment ( Windows )\n",
    "\n",
    "    activate pyclass\n",
    "\n",
    "install jupyter\n",
    "\n",
    "    conda install jupyter\n",
    "\n",
    "run jupyter notebook server\n",
    "\n",
    "    jupyter-notebook\n",
    "\n",
    "deactivate environment\n",
    "\n",
    "    deactivate"
   ]
  },
  {
   "cell_type": "code",
   "execution_count": 1,
   "metadata": {
    "collapsed": false
   },
   "outputs": [
    {
     "name": "stdout",
     "output_type": "stream",
     "text": [
      "Hello\n"
     ]
    }
   ],
   "source": [
    "# python 3 only\n",
    "print(\"Hello\")"
   ]
  },
  {
   "cell_type": "code",
   "execution_count": 2,
   "metadata": {
    "collapsed": false
   },
   "outputs": [
    {
     "name": "stdout",
     "output_type": "stream",
     "text": [
      "Hello\n"
     ]
    }
   ],
   "source": [
    "# runs on both python 2 and 3\n",
    "print (\"Hello\")"
   ]
  },
  {
   "cell_type": "markdown",
   "metadata": {},
   "source": [
    "### Basic conda commands\n",
    "\n",
    "create environment with essential packages ( for eg installs python, jupyter and numpy )\n",
    "\n",
    "    conda create -n myenv python jupyter numpy\n",
    "\n",
    "list all installed packages\n",
    "\n",
    "    conda list\n",
    "\n",
    "search for a package ( if it exists on repository )\n",
    "\n",
    "    conda search requests\n",
    "\n",
    "install package that is not available in conda repository\n",
    "\n",
    "    conda install pip\n",
    "    pip install pyramid\n",
    "\n",
    "**Note: ** *conda and pip both are python package managers, pip deals with source files directly while conda uses binary compiled version, pip installs from official repository [pypi](pypi.python.org) so any python package can be installed with pip while not with conda*"
   ]
  }
 ],
 "metadata": {
  "kernelspec": {
   "display_name": "Python 3",
   "language": "python",
   "name": "python3"
  },
  "language_info": {
   "codemirror_mode": {
    "name": "ipython",
    "version": 3
   },
   "file_extension": ".py",
   "mimetype": "text/x-python",
   "name": "python",
   "nbconvert_exporter": "python",
   "pygments_lexer": "ipython3",
   "version": "3.5.1"
  }
 },
 "nbformat": 4,
 "nbformat_minor": 0
}
